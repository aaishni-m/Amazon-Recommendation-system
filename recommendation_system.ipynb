import pandas as pd 
import numpy as np
import matplotlib.pyplot as plt
import seaborn as sns

from sklearn.metric.pairwise import cosine_similarity
from sklearn.feature_extraction.text import TfidVectorizer

import os
from scipy.sparse import coo_matrix

#train_data = pd.read_csv('marketing_sample_for_walmart_com-walmart_com_product_review_20200701_20201231__5k_data.csv')
print('')
